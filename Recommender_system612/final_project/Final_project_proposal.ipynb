{
  "nbformat": 4,
  "nbformat_minor": 0,
  "metadata": {
    "colab": {
      "name": "Final_project_proposal.ipynb",
      "provenance": []
    },
    "kernelspec": {
      "name": "python3",
      "display_name": "Python 3"
    }
  },
  "cells": [
    {
      "cell_type": "markdown",
      "metadata": {
        "id": "paNYhwFIanFa",
        "colab_type": "text"
      },
      "source": [
        "## Title: DATA_612 Final Project Proposal\n",
        "## Salma Elshahawy\n",
        "## July 03, 2020"
      ]
    },
    {
      "cell_type": "markdown",
      "metadata": {
        "id": "wcdsD2bIUh0p",
        "colab_type": "text"
      },
      "source": [
        "## Objective\n",
        "Find an interesting dataset and describe the system you plan to build out. If you would like to use one of the datasets you have already worked with, you should add a unique element or incorporate additional data. (i.e. explicit features you scrape from another source, like image analysis on movie posters). The overall goal, however, will be to produce quality recommendations by extracting insights from a large dataset. You may do so using Spark, or another distributed computing method, OR by effectively applying one of the more advanced mathematical techniques we have covered. There is no preference for one over the other, as long as your recommender works! The planning document should be written up and published as a notebook on GitHub or in RPubs.Please submit the link in the Unit 4 folder, due Thursday, July 5."
      ]
    },
    {
      "cell_type": "markdown",
      "metadata": {
        "id": "OLgehZxyUlYe",
        "colab_type": "text"
      },
      "source": [
        "## Recommender System using Amazon Reviews\n",
        "\n",
        "E-commerce companies like Amazon, flipkart uses different recommendation systems to provide suggestions to the customers. Amazon uses currently item-item collaberrative filtering, which scales to massive datasets and produces high quality recommendation system in the real time. This system is a kind of a information filtering system which seeks to predict the \"rating\" or preferences which user is interested in.\n",
        "\n",
        "\n",
        "\n"
      ]
    },
    {
      "cell_type": "markdown",
      "metadata": {
        "id": "f881cIWbWL-s",
        "colab_type": "text"
      },
      "source": [
        "## Dataset\n",
        "\n",
        "The data is freely accessible to the public and can be obtained from [ucsd repository](http://jmcauley.ucsd.edu/data/amazon/). \n",
        "\n",
        "This dataset contains product reviews and metadata from Amazon, including 142.8 million reviews spanning May 1996 - July 2014.\n",
        "\n",
        "This dataset includes reviews (ratings, text, helpfulness votes), product metadata (descriptions, category information, price, brand, and image features), and links (also viewed/also bought graphs)."
      ]
    },
    {
      "cell_type": "markdown",
      "metadata": {
        "id": "xZO9lnuoaV5s",
        "colab_type": "text"
      },
      "source": [
        "## Methodology\n",
        "This project will be an exploration of modern recommender systems with the use of Item-item collaborative filtering and Singule Value Decomposition (SVD) or Alternating Least Square (ALS) Matrix Factorization.\n",
        "\n",
        "The system will be implemented in Python using a training and test set with a ratio of 80%:20% respectively. The error for each model will be reported as root mean square error (RMSE).\n",
        "\n",
        "## References\n",
        "  - [Ups and downs: Modeling the visual evolution of fashion trends with one-class collaborative filtering\n",
        "R. He, J. McAuley\n",
        "WWW, 2016](http://cseweb.ucsd.edu/~jmcauley/pdfs/www16a.pdf)\n",
        "\n",
        "  - [Image-based recommendations on styles and substitutes\n",
        "J. McAuley, C. Targett, J. Shi, A. van den Hengel\n",
        "SIGIR, 2015](http://cseweb.ucsd.edu/~jmcauley/pdfs/sigir15.pdf)"
      ]
    }
  ]
}