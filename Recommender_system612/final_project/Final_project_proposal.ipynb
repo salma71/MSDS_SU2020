{
  "nbformat": 4,
  "nbformat_minor": 0,
  "metadata": {
    "colab": {
      "name": "Final_project_proposal.ipynb",
      "provenance": []
    },
    "kernelspec": {
      "name": "python3",
      "display_name": "Python 3"
    }
  },
  "cells": [
    {
      "cell_type": "markdown",
      "metadata": {
        "id": "paNYhwFIanFa",
        "colab_type": "text"
      },
      "source": [
        "## Title: DATA_612 Final Project Proposal\n",
        "## Salma Elshahawy\n",
        "## July 03, 2020"
      ]
    },
    {
      "cell_type": "markdown",
      "metadata": {
        "id": "wcdsD2bIUh0p",
        "colab_type": "text"
      },
      "source": [
        "## Objective\n",
        "Find an interesting dataset and describe the system you plan to build out. If you would like to use one of the datasets you have already worked with, you should add a unique element or incorporate additional data. (i.e. explicit features you scrape from another source, like image analysis on movie posters). The overall goal, however, will be to produce quality recommendations by extracting insights from a large dataset. You may do so using Spark, or another distributed computing method, OR by effectively applying one of the more advanced mathematical techniques we have covered. There is no preference for one over the other, as long as your recommender works! The planning document should be written up and published as a notebook on GitHub or in RPubs.Please submit the link in the Unit 4 folder, due Thursday, July 5."
      ]
    },
    {
      "cell_type": "markdown",
      "metadata": {
        "id": "OLgehZxyUlYe",
        "colab_type": "text"
      },
      "source": [
        "## Anime Recommendation System\n",
        "\n",
        "MyAnimeList, also known as MAL, is an anime and manga social networking website which contains a database where users can organize and add different anime to their list. When added to a list the anime items are given a rating after being watched. This process helps in finding users who have similar tastes.\n",
        "\n",
        "This project will explore the contents of this dataset to gain insights. Later on, an item-item collaborative filtering recommeder system will be built to recommend and predict anime for users. Analysis and evaluation will be done on the recommender system to see how well it performs when recommending items. Please note that the project will not be limited to this proposal. As I progress through the assignment, some attributes may change as I learn the data and the projected recommender system.\n",
        "\n",
        "This data set contains information on user preference data from 73,516 users on 12,294 anime. There’s two datasets:\n",
        "\n",
        "\n",
        "\n"
      ]
    },
    {
      "cell_type": "markdown",
      "metadata": {
        "id": "f881cIWbWL-s",
        "colab_type": "text"
      },
      "source": [
        "## Dataset\n",
        "\n",
        "The data is freely accessible to the public and was obtained from Kaggle.com. For a more condensed version, you can find it on Kaggle as well under Myanimelist."
      ]
    },
    {
      "cell_type": "markdown",
      "metadata": {
        "id": "xZO9lnuoaV5s",
        "colab_type": "text"
      },
      "source": [
        "## Methodology\n",
        "This project will be an exploration of modern recommender systems with the use of\n",
        "\n",
        "Item-item collaborative filtering and\n",
        "Singule Value Decomposition (SVD) or Alternating Least Square (ALS) Matrix Factorization.\n",
        "\n",
        "The system will be implemented in Python using a training and test set with a ratio of 80%:20% respectively. The error for each model will be reported as root mean square error (RMSE).\n",
        "\n",
        "## References\n",
        "https://myanimelist.net/"
      ]
    }
  ]
}