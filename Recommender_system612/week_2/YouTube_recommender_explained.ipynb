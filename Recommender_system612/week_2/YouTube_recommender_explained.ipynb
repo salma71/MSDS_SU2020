{
  "nbformat": 4,
  "nbformat_minor": 0,
  "metadata": {
    "colab": {
      "name": "YouTube_recommender_explained.ipynb",
      "provenance": []
    },
    "kernelspec": {
      "name": "python3",
      "display_name": "Python 3"
    }
  },
  "cells": [
    {
      "cell_type": "markdown",
      "metadata": {
        "id": "-IyLhlrX3OIw",
        "colab_type": "text"
      },
      "source": [
        "# YouTube recommender system\n",
        "\n",
        "## System overview\n",
        "\n",
        "YouTube recommender system considered one of the best recommenders in the industry today. YouTube is now owned by Google who is obsessed by deep learning; YouTube is gone with the deep learning to power its recommendations. They published a paper on [Deep Neural Networks for YouTube Recommendations](https://static.googleusercontent.com/media/research.google.com/en//pubs/archive/45530.pdf) and they made it available for free for anyone to explore and study. \n",
        "\n",
        "The paper gave a valuable information for the youtubers to optimize their own channel.\n",
        "\n",
        "## The first step - Define the problem\n",
        "\n",
        "YouTube defined their business problem as the following:\n",
        "\n",
        "\n",
        "1.   **Scale**: have ove 1 billion users, who watch more than 5 billion videos every day. \n",
        "2.   **Freshness**: over 500 hours of videos are uploaded to YouTube every minute, and their recommendations must take into account. \n",
        "3.   **Noise**: most of the interest data consists of implicit ratings, not explicit ratings. Which mean that the rating data basing recommendations on which videos people click on. In addition to that, most of the data is also extremely sparse, and the content attributes associated  with their videos is poorly structured.\n",
        "\n",
        "## What did Google do to beat the challenges\n",
        "\n",
        "In 2016 YouTube moved its recommendations to deep learning framework, powered by TesnsorFlow. Before that, their approach was based on matrix factorization. They implemented matrix factorization using neural network.\n",
        "\n",
        "## YouTube deep learning architecture\n",
        "\n",
        "![alt text](https://)\n",
        "\n"
      ]
    }
  ]
}